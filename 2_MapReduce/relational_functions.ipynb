{
  "nbformat": 4,
  "nbformat_minor": 5,
  "metadata": {
    "kernelspec": {
      "display_name": "Python 3",
      "language": "python",
      "name": "python3"
    },
    "language_info": {
      "codemirror_mode": {
        "name": "ipython",
        "version": 3
      },
      "file_extension": ".py",
      "mimetype": "text/x-python",
      "name": "python",
      "nbconvert_exporter": "python",
      "pygments_lexer": "ipython3",
      "version": "3.8.8"
    },
    "colab": {
      "name": "relational_functions.ipynb",
      "provenance": []
    }
  },
  "cells": [
    {
      "cell_type": "code",
      "metadata": {
        "id": "cea22e69"
      },
      "source": [
        "input_ = '1448713968\tuser2\thttps://ru.wikipedia.org/\\n\\\n",
        "1448764519\tuser10\thttps://stepic.org/\\n\\\n",
        "1448713968\tuser5\thttp://google.com/\\n\\\n",
        "1448773411\tuser10\thttps://stepic.org/explore/courses\\n\\\n",
        "1448709864\tuser3\thttp://vk.com/'"
      ],
      "id": "cea22e69",
      "execution_count": null,
      "outputs": []
    },
    {
      "cell_type": "code",
      "metadata": {
        "id": "319fb6cb",
        "outputId": "194a8fba-5894-434c-adfc-ff80f920dcd4"
      },
      "source": [
        "print(input_)"
      ],
      "id": "319fb6cb",
      "execution_count": null,
      "outputs": [
        {
          "output_type": "stream",
          "text": [
            "1448713968\tuser2\thttps://ru.wikipedia.org/\n",
            "1448764519\tuser10\thttps://stepic.org/\n",
            "1448713968\tuser5\thttp://google.com/\n",
            "1448773411\tuser10\thttps://stepic.org/explore/courses\n",
            "1448709864\tuser3\thttp://vk.com/\n"
          ],
          "name": "stdout"
        }
      ]
    },
    {
      "cell_type": "code",
      "metadata": {
        "id": "1969cabe"
      },
      "source": [
        "class MapperSelect():\n",
        "    def map(self, input_):\n",
        "        timestamp, id_, url = input_.strip().split('\\t')\n",
        "        if id_ == 'user10':\n",
        "            print(input_.strip())"
      ],
      "id": "1969cabe",
      "execution_count": null,
      "outputs": []
    },
    {
      "cell_type": "code",
      "metadata": {
        "id": "522a3058",
        "outputId": "409a9f25-e7e2-4cd6-a1a9-b74a3e665565"
      },
      "source": [
        "mapper = MapperSelect()\n",
        "for doc in input_.strip().split('\\n'):\n",
        "    mapper.map(doc)"
      ],
      "id": "522a3058",
      "execution_count": null,
      "outputs": [
        {
          "output_type": "stream",
          "text": [
            "1448764519\tuser10\thttps://stepic.org/\n",
            "1448773411\tuser10\thttps://stepic.org/explore/courses\n"
          ],
          "name": "stdout"
        }
      ]
    },
    {
      "cell_type": "code",
      "metadata": {
        "id": "da02f31e"
      },
      "source": [
        "class MapperProject():\n",
        "    def map(self, input_):\n",
        "        timestamp, id_, url = input_.strip().split('\\t')\n",
        "        print(url)"
      ],
      "id": "da02f31e",
      "execution_count": null,
      "outputs": []
    },
    {
      "cell_type": "code",
      "metadata": {
        "id": "1b605ba9",
        "outputId": "f63302c4-a6a1-4468-a9df-1c8518009fca"
      },
      "source": [
        "mapper = MapperProject()\n",
        "for doc in input_.strip().split('\\n'):\n",
        "    mapper.map(doc)"
      ],
      "id": "1b605ba9",
      "execution_count": null,
      "outputs": [
        {
          "output_type": "stream",
          "text": [
            "https://ru.wikipedia.org/\n",
            "https://stepic.org/\n",
            "http://google.com/\n",
            "https://stepic.org/explore/courses\n",
            "http://vk.com/\n"
          ],
          "name": "stdout"
        }
      ]
    },
    {
      "cell_type": "code",
      "metadata": {
        "id": "927fcd25"
      },
      "source": [
        "input_ = '1\tA\\n\\\n",
        "2\tA\\n\\\n",
        "2\tB\\n\\\n",
        "3\tB'"
      ],
      "id": "927fcd25",
      "execution_count": null,
      "outputs": []
    },
    {
      "cell_type": "code",
      "metadata": {
        "id": "85b64017",
        "outputId": "854877da-21e7-4b6d-d369-c86a5f1782ba"
      },
      "source": [
        "print(input_)"
      ],
      "id": "85b64017",
      "execution_count": null,
      "outputs": [
        {
          "output_type": "stream",
          "text": [
            "1\tA\n",
            "2\tA\n",
            "2\tB\n",
            "3\tB\n"
          ],
          "name": "stdout"
        }
      ]
    },
    {
      "cell_type": "code",
      "metadata": {
        "id": "1549b8f3"
      },
      "source": [
        "class ReducerUnion():\n",
        "    def reduce(self, input_):\n",
        "        last_k = None\n",
        "        for line in input_.strip().split('\\n'):\n",
        "            k, v = line.strip().split('\\t')\n",
        "            if k != last_k:\n",
        "                print(k)\n",
        "                last_k = k"
      ],
      "id": "1549b8f3",
      "execution_count": null,
      "outputs": []
    },
    {
      "cell_type": "code",
      "metadata": {
        "id": "7df6af2b",
        "outputId": "40f4a71b-36dc-4280-f1cf-5fda4cc0c282"
      },
      "source": [
        "reducer = ReducerUnion()\n",
        "reducer.reduce(input_)"
      ],
      "id": "7df6af2b",
      "execution_count": null,
      "outputs": [
        {
          "output_type": "stream",
          "text": [
            "1\n",
            "2\n",
            "3\n"
          ],
          "name": "stdout"
        }
      ]
    },
    {
      "cell_type": "code",
      "metadata": {
        "id": "cabada19"
      },
      "source": [
        "input_ = '1\tA\\n\\\n",
        "1\tA\\n\\\n",
        "1\tB\\n\\\n",
        "1\tB\\n\\\n",
        "2\tA\\n\\\n",
        "2\tB\\n\\\n",
        "3\tB'"
      ],
      "id": "cabada19",
      "execution_count": null,
      "outputs": []
    },
    {
      "cell_type": "code",
      "metadata": {
        "id": "547897a7",
        "outputId": "db835650-57ad-4499-855f-7a75f5ff5d5d"
      },
      "source": [
        "print(input_)"
      ],
      "id": "547897a7",
      "execution_count": null,
      "outputs": [
        {
          "output_type": "stream",
          "text": [
            "1\tA\n",
            "1\tA\n",
            "1\tB\n",
            "1\tB\n",
            "2\tA\n",
            "2\tB\n",
            "3\tB\n"
          ],
          "name": "stdout"
        }
      ]
    },
    {
      "cell_type": "code",
      "metadata": {
        "id": "e766f1c4"
      },
      "source": [
        "class ReducerIntersection():\n",
        "    def reduce(self, input_):\n",
        "        last_k, last_v = None, None\n",
        "        for line in input_.strip().split('\\n'):\n",
        "            k, v = line.strip().split('\\t')\n",
        "            if k == last_k and v != last_v:\n",
        "                print(last_k)\n",
        "            last_k, last_v = k, v"
      ],
      "id": "e766f1c4",
      "execution_count": null,
      "outputs": []
    },
    {
      "cell_type": "code",
      "metadata": {
        "id": "6c4d5102",
        "outputId": "15b9cf60-8844-47df-edd2-393cd205f1d6"
      },
      "source": [
        "reducer = ReducerIntersection()\n",
        "reducer.reduce(input_)"
      ],
      "id": "6c4d5102",
      "execution_count": null,
      "outputs": [
        {
          "output_type": "stream",
          "text": [
            "1\n",
            "2\n"
          ],
          "name": "stdout"
        }
      ]
    },
    {
      "cell_type": "code",
      "metadata": {
        "id": "8777e700"
      },
      "source": [
        "class ReduceDifference():\n",
        "    def reduce(self, input_):\n",
        "        last_k, last_v = None, None\n",
        "        for line in input_.strip().split('\\n'):\n",
        "            k, v = line.strip().split('\\t')\n",
        "            if k != last_k and last_v == 'A':\n",
        "                print(last_k)\n",
        "            last_k, last_v = k, v\n",
        "        if last_v == 'A':\n",
        "            print(k)"
      ],
      "id": "8777e700",
      "execution_count": null,
      "outputs": []
    },
    {
      "cell_type": "code",
      "metadata": {
        "id": "d1707f77"
      },
      "source": [
        "input_ = '1\tA\\n\\\n",
        "2\tA\\n\\\n",
        "3\tB'"
      ],
      "id": "d1707f77",
      "execution_count": null,
      "outputs": []
    },
    {
      "cell_type": "code",
      "metadata": {
        "id": "1654bed5",
        "outputId": "f86b2294-57f2-4dad-882e-fcc01db31b0a"
      },
      "source": [
        "print(input_)"
      ],
      "id": "1654bed5",
      "execution_count": null,
      "outputs": [
        {
          "output_type": "stream",
          "text": [
            "1\tA\n",
            "2\tA\n",
            "3\tB\n"
          ],
          "name": "stdout"
        }
      ]
    },
    {
      "cell_type": "code",
      "metadata": {
        "id": "5a2cfb40",
        "outputId": "d2b6204c-bef8-41ba-9d89-9654452c6942"
      },
      "source": [
        "reducer = ReduceDifference()\n",
        "reducer.reduce(input_)"
      ],
      "id": "5a2cfb40",
      "execution_count": null,
      "outputs": [
        {
          "output_type": "stream",
          "text": [
            "1\n"
          ],
          "name": "stdout"
        }
      ]
    },
    {
      "cell_type": "code",
      "metadata": {
        "id": "cd11d1f8"
      },
      "source": [
        "class ReduceSymmetricDifference(): # не рабоает для варианта с повторами, например 1 А   1 А\n",
        "    def reduce(self, input_):\n",
        "        last_k, last_v = None, None\n",
        "        for line in input_.strip().split('\\n'):\n",
        "            k, v = line.strip().split('\\t')\n",
        "            if last_k and k == last_k and v != last_v:\n",
        "                last_k, last_v = None, None\n",
        "                continue\n",
        "            if last_k:\n",
        "                print(last_k)\n",
        "            last_k, last_v = k, v\n",
        "        if last_v == 'A' or last_v == 'B':\n",
        "            print(k)"
      ],
      "id": "cd11d1f8",
      "execution_count": null,
      "outputs": []
    },
    {
      "cell_type": "code",
      "metadata": {
        "id": "1f8a9212",
        "outputId": "a460b553-5b8f-44db-b32f-3a2a1311e9de"
      },
      "source": [
        "print(input_)"
      ],
      "id": "1f8a9212",
      "execution_count": null,
      "outputs": [
        {
          "output_type": "stream",
          "text": [
            "1\tA\n",
            "1\tA\n",
            "1\tB\n",
            "1\tB\n",
            "2\tA\n",
            "2\tB\n",
            "3\tB\n"
          ],
          "name": "stdout"
        }
      ]
    },
    {
      "cell_type": "code",
      "metadata": {
        "id": "2e8abd8e",
        "outputId": "9193b81b-9c25-435e-9de7-e5258fce5e6a"
      },
      "source": [
        "reducer = ReduceSymmetricDifference()\n",
        "reducer.reduce(input_)"
      ],
      "id": "2e8abd8e",
      "execution_count": null,
      "outputs": [
        {
          "output_type": "stream",
          "text": [
            "1\n",
            "1\n",
            "3\n"
          ],
          "name": "stdout"
        }
      ]
    },
    {
      "cell_type": "code",
      "metadata": {
        "id": "8138d88d"
      },
      "source": [
        "input_ = 'user1\tquery:гугл\\n\\\n",
        "user1\turl:google.ru\\n\\\n",
        "user2\tquery:стэпик\\n\\\n",
        "user2\tquery:стэпик курсы\\n\\\n",
        "user2\turl:stepic.org\\n\\\n",
        "user2\turl:stepic.org/explore/courses\\n\\\n",
        "user3\tquery:вконтакте'"
      ],
      "id": "8138d88d",
      "execution_count": 73,
      "outputs": []
    },
    {
      "cell_type": "code",
      "metadata": {
        "colab": {
          "base_uri": "https://localhost:8080/"
        },
        "id": "27280134",
        "outputId": "01faa398-590c-4acd-fed9-7e8fe5f22e65"
      },
      "source": [
        "print(input_)"
      ],
      "id": "27280134",
      "execution_count": 74,
      "outputs": [
        {
          "output_type": "stream",
          "text": [
            "user1\tquery:гугл\n",
            "user1\turl:google.ru\n",
            "user2\tquery:стэпик\n",
            "user2\tquery:стэпик курсы\n",
            "user2\turl:stepic.org\n",
            "user2\turl:stepic.org/explore/courses\n",
            "user3\tquery:вконтакте\n"
          ],
          "name": "stdout"
        }
      ]
    },
    {
      "cell_type": "code",
      "metadata": {
        "id": "60d11b7d"
      },
      "source": [
        "from collections import defaultdict\n",
        "class ReducerJoin():\n",
        "    def reduce(self, user, values):\n",
        "        dict_ = defaultdict(list)\n",
        "        for value in values:\n",
        "            tag, query = value.strip().split(':')\n",
        "            dict_[tag].append(query)\n",
        "        tags = list(dict_.keys())\n",
        "        if len(tags) == 2:\n",
        "            for v_left in dict_[tags[0]]:\n",
        "                for v_right in dict_[tags[1]]:\n",
        "                    print(user, v_left, v_right, sep='\\t')"
      ],
      "id": "60d11b7d",
      "execution_count": 81,
      "outputs": []
    },
    {
      "cell_type": "code",
      "metadata": {
        "colab": {
          "base_uri": "https://localhost:8080/"
        },
        "id": "963750e8",
        "outputId": "b818a25a-5ec2-4a6e-c7c1-21632eedc6ba"
      },
      "source": [
        "reducer = ReducerJoin()\n",
        "last_user, values = None, []\n",
        "for line in input_.strip().split('\\n'):\n",
        "    user, value = line.strip().split('\\t')\n",
        "    if last_user and user != last_user:\n",
        "        reducer.reduce(last_user, values)\n",
        "        last_user, values = user, []\n",
        "        values.append(value)\n",
        "    else:\n",
        "        values.append(value)\n",
        "        last_user = user\n",
        "if last_user:\n",
        "    reducer.reduce(last_user, values)"
      ],
      "id": "963750e8",
      "execution_count": 82,
      "outputs": [
        {
          "output_type": "stream",
          "text": [
            "user1\tгугл\tgoogle.ru\n",
            "user2\tстэпик\tstepic.org\n",
            "user2\tстэпик\tstepic.org/explore/courses\n",
            "user2\tстэпик курсы\tstepic.org\n",
            "user2\tстэпик курсы\tstepic.org/explore/courses\n"
          ],
          "name": "stdout"
        }
      ]
    },
    {
      "cell_type": "code",
      "metadata": {
        "id": "OI4g2pE18Gc_"
      },
      "source": [
        ""
      ],
      "id": "OI4g2pE18Gc_",
      "execution_count": null,
      "outputs": []
    }
  ]
}