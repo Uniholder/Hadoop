{
 "cells": [
  {
   "cell_type": "code",
   "execution_count": 2,
   "id": "cea22e69",
   "metadata": {},
   "outputs": [],
   "source": [
    "input_ = '1448713968\tuser2\thttps://ru.wikipedia.org/\\n\\\n",
    "1448764519\tuser10\thttps://stepic.org/\\n\\\n",
    "1448713968\tuser5\thttp://google.com/\\n\\\n",
    "1448773411\tuser10\thttps://stepic.org/explore/courses\\n\\\n",
    "1448709864\tuser3\thttp://vk.com/'"
   ]
  },
  {
   "cell_type": "code",
   "execution_count": 3,
   "id": "319fb6cb",
   "metadata": {},
   "outputs": [
    {
     "name": "stdout",
     "output_type": "stream",
     "text": [
      "1448713968\tuser2\thttps://ru.wikipedia.org/\n",
      "1448764519\tuser10\thttps://stepic.org/\n",
      "1448713968\tuser5\thttp://google.com/\n",
      "1448773411\tuser10\thttps://stepic.org/explore/courses\n",
      "1448709864\tuser3\thttp://vk.com/\n"
     ]
    }
   ],
   "source": [
    "print(input_)"
   ]
  },
  {
   "cell_type": "code",
   "execution_count": 6,
   "id": "1969cabe",
   "metadata": {},
   "outputs": [],
   "source": [
    "class MapperSelect():\n",
    "    def map(self, input_):\n",
    "        timestamp, id_, url = input_.strip().split('\\t')\n",
    "        if id_ == 'user10':\n",
    "            print(input_.strip())"
   ]
  },
  {
   "cell_type": "code",
   "execution_count": 7,
   "id": "522a3058",
   "metadata": {},
   "outputs": [
    {
     "name": "stdout",
     "output_type": "stream",
     "text": [
      "1448764519\tuser10\thttps://stepic.org/\n",
      "1448773411\tuser10\thttps://stepic.org/explore/courses\n"
     ]
    }
   ],
   "source": [
    "mapper = MapperSelect()\n",
    "for doc in input_.strip().split('\\n'):\n",
    "    mapper.map(doc)"
   ]
  },
  {
   "cell_type": "code",
   "execution_count": 8,
   "id": "da02f31e",
   "metadata": {},
   "outputs": [],
   "source": [
    "class MapperProject():\n",
    "    def map(self, input_):\n",
    "        timestamp, id_, url = input_.strip().split('\\t')\n",
    "        print(url)"
   ]
  },
  {
   "cell_type": "code",
   "execution_count": 9,
   "id": "1b605ba9",
   "metadata": {},
   "outputs": [
    {
     "name": "stdout",
     "output_type": "stream",
     "text": [
      "https://ru.wikipedia.org/\n",
      "https://stepic.org/\n",
      "http://google.com/\n",
      "https://stepic.org/explore/courses\n",
      "http://vk.com/\n"
     ]
    }
   ],
   "source": [
    "mapper = MapperProject()\n",
    "for doc in input_.strip().split('\\n'):\n",
    "    mapper.map(doc)"
   ]
  },
  {
   "cell_type": "code",
   "execution_count": 164,
   "id": "927fcd25",
   "metadata": {},
   "outputs": [],
   "source": [
    "input_ = '1\tA\\n\\\n",
    "2\tA\\n\\\n",
    "2\tB\\n\\\n",
    "3\tB'"
   ]
  },
  {
   "cell_type": "code",
   "execution_count": 158,
   "id": "85b64017",
   "metadata": {},
   "outputs": [
    {
     "name": "stdout",
     "output_type": "stream",
     "text": [
      "1\tA\n",
      "2\tA\n",
      "2\tB\n",
      "3\tB\n"
     ]
    }
   ],
   "source": [
    "print(input_)"
   ]
  },
  {
   "cell_type": "code",
   "execution_count": 12,
   "id": "1549b8f3",
   "metadata": {},
   "outputs": [],
   "source": [
    "class ReducerUnion():\n",
    "    def reduce(self, input_):\n",
    "        last_k = None\n",
    "        for line in input_.strip().split('\\n'):\n",
    "            k, v = line.strip().split('\\t')\n",
    "            if k != last_k:\n",
    "                print(k)\n",
    "                last_k = k"
   ]
  },
  {
   "cell_type": "code",
   "execution_count": 13,
   "id": "7df6af2b",
   "metadata": {},
   "outputs": [
    {
     "name": "stdout",
     "output_type": "stream",
     "text": [
      "1\n",
      "2\n",
      "3\n"
     ]
    }
   ],
   "source": [
    "reducer = ReducerUnion()\n",
    "reducer.reduce(input_)"
   ]
  },
  {
   "cell_type": "code",
   "execution_count": 195,
   "id": "cabada19",
   "metadata": {},
   "outputs": [],
   "source": [
    "input_ = '1\tA\\n\\\n",
    "1\tA\\n\\\n",
    "1\tB\\n\\\n",
    "1\tB\\n\\\n",
    "2\tA\\n\\\n",
    "2\tB\\n\\\n",
    "3\tB'"
   ]
  },
  {
   "cell_type": "code",
   "execution_count": 29,
   "id": "547897a7",
   "metadata": {},
   "outputs": [
    {
     "name": "stdout",
     "output_type": "stream",
     "text": [
      "1\tA\n",
      "1\tA\n",
      "1\tB\n",
      "1\tB\n",
      "2\tA\n",
      "2\tB\n",
      "3\tB\n"
     ]
    }
   ],
   "source": [
    "print(input_)"
   ]
  },
  {
   "cell_type": "code",
   "execution_count": 37,
   "id": "e766f1c4",
   "metadata": {},
   "outputs": [],
   "source": [
    "class ReducerIntersection():\n",
    "    def reduce(self, input_):\n",
    "        last_k, last_v = None, None\n",
    "        for line in input_.strip().split('\\n'):\n",
    "            k, v = line.strip().split('\\t')\n",
    "            if k == last_k and v != last_v:\n",
    "                print(last_k)\n",
    "            last_k, last_v = k, v"
   ]
  },
  {
   "cell_type": "code",
   "execution_count": 38,
   "id": "6c4d5102",
   "metadata": {},
   "outputs": [
    {
     "name": "stdout",
     "output_type": "stream",
     "text": [
      "1\n",
      "2\n"
     ]
    }
   ],
   "source": [
    "reducer = ReducerIntersection()\n",
    "reducer.reduce(input_)"
   ]
  },
  {
   "cell_type": "code",
   "execution_count": 147,
   "id": "8777e700",
   "metadata": {},
   "outputs": [],
   "source": [
    "class ReduceDifference():\n",
    "    def reduce(self, input_):\n",
    "        last_k, last_v = None, None\n",
    "        for line in input_.strip().split('\\n'):\n",
    "            k, v = line.strip().split('\\t')\n",
    "            if k != last_k and last_v == 'A':\n",
    "                print(last_k)\n",
    "            last_k, last_v = k, v\n",
    "        if last_v == 'A':\n",
    "            print(k)"
   ]
  },
  {
   "cell_type": "code",
   "execution_count": 191,
   "id": "d1707f77",
   "metadata": {},
   "outputs": [],
   "source": [
    "input_ = '1\tA\\n\\\n",
    "2\tA\\n\\\n",
    "3\tB'"
   ]
  },
  {
   "cell_type": "code",
   "execution_count": 192,
   "id": "1654bed5",
   "metadata": {},
   "outputs": [
    {
     "name": "stdout",
     "output_type": "stream",
     "text": [
      "1\tA\n",
      "2\tA\n",
      "3\tB\n"
     ]
    }
   ],
   "source": [
    "print(input_)"
   ]
  },
  {
   "cell_type": "code",
   "execution_count": 165,
   "id": "5a2cfb40",
   "metadata": {},
   "outputs": [
    {
     "name": "stdout",
     "output_type": "stream",
     "text": [
      "1\n"
     ]
    }
   ],
   "source": [
    "reducer = ReduceDifference()\n",
    "reducer.reduce(input_)"
   ]
  },
  {
   "cell_type": "code",
   "execution_count": 188,
   "id": "cd11d1f8",
   "metadata": {},
   "outputs": [],
   "source": [
    "class ReduceSymmetricDifference(): # не рабоает для варианта с повторами, например 1 А   1 А\n",
    "    def reduce(self, input_):\n",
    "        last_k, last_v = None, None\n",
    "        for line in input_.strip().split('\\n'):\n",
    "            k, v = line.strip().split('\\t')\n",
    "            if last_k and k == last_k and v != last_v:\n",
    "                last_k, last_v = None, None\n",
    "                continue\n",
    "            if last_k:\n",
    "                print(last_k)\n",
    "            last_k, last_v = k, v\n",
    "        if last_v == 'A' or last_v == 'B':\n",
    "            print(k)"
   ]
  },
  {
   "cell_type": "code",
   "execution_count": 196,
   "id": "1f8a9212",
   "metadata": {},
   "outputs": [
    {
     "name": "stdout",
     "output_type": "stream",
     "text": [
      "1\tA\n",
      "1\tA\n",
      "1\tB\n",
      "1\tB\n",
      "2\tA\n",
      "2\tB\n",
      "3\tB\n"
     ]
    }
   ],
   "source": [
    "print(input_)"
   ]
  },
  {
   "cell_type": "code",
   "execution_count": 197,
   "id": "2e8abd8e",
   "metadata": {},
   "outputs": [
    {
     "name": "stdout",
     "output_type": "stream",
     "text": [
      "1\n",
      "1\n",
      "3\n"
     ]
    }
   ],
   "source": [
    "reducer = ReduceSymmetricDifference()\n",
    "reducer.reduce(input_)"
   ]
  },
  {
   "cell_type": "code",
   "execution_count": null,
   "id": "60d11b7d",
   "metadata": {},
   "outputs": [],
   "source": []
  }
 ],
 "metadata": {
  "kernelspec": {
   "display_name": "Python 3",
   "language": "python",
   "name": "python3"
  },
  "language_info": {
   "codemirror_mode": {
    "name": "ipython",
    "version": 3
   },
   "file_extension": ".py",
   "mimetype": "text/x-python",
   "name": "python",
   "nbconvert_exporter": "python",
   "pygments_lexer": "ipython3",
   "version": "3.8.8"
  }
 },
 "nbformat": 4,
 "nbformat_minor": 5
}
