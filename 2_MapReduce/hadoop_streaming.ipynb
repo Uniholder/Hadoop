{
 "cells": [
  {
   "cell_type": "code",
   "execution_count": 25,
   "id": "3d79cec6",
   "metadata": {},
   "outputs": [],
   "source": [
    "input_mapper = \"Vivere est cogitare\\nVivere militate est\\nScientia potentia est\""
   ]
  },
  {
   "cell_type": "code",
   "execution_count": 26,
   "id": "7d75d807",
   "metadata": {},
   "outputs": [
    {
     "name": "stdout",
     "output_type": "stream",
     "text": [
      "Vivere est cogitare\n",
      "Vivere militate est\n",
      "Scientia potentia est\n"
     ]
    }
   ],
   "source": [
    "print(input_mapper)"
   ]
  },
  {
   "cell_type": "code",
   "execution_count": 23,
   "id": "43c43890",
   "metadata": {},
   "outputs": [
    {
     "name": "stdout",
     "output_type": "stream",
     "text": [
      "Vivere\t1\n",
      "est\t1\n",
      "cogitare\t1\n",
      "Vivere\t1\n",
      "militate\t1\n",
      "est\t1\n",
      "Scientia\t1\n",
      "potentia\t1\n",
      "est\t1\n"
     ]
    }
   ],
   "source": [
    "# mapper\n",
    "import sys\n",
    "\n",
    "for line in input_mapper.split('\\n'): # sys.stdin\n",
    "    for token in line.strip().split(' '):\n",
    "        if token: print('\\t'.join([token, '1']))"
   ]
  },
  {
   "cell_type": "code",
   "execution_count": 27,
   "id": "e77730a7",
   "metadata": {},
   "outputs": [],
   "source": [
    "input_reducer = \"cogitare\\t1\\nest\\t1\\nest\\t1\\nest\\t1\\nmilitate\\t1\\npotentia\\t1\\nScientia\\t1\\nVivere\\t1\\nVivere\\t1\""
   ]
  },
  {
   "cell_type": "code",
   "execution_count": 28,
   "id": "36fc9e73",
   "metadata": {},
   "outputs": [
    {
     "name": "stdout",
     "output_type": "stream",
     "text": [
      "cogitare\t1\n",
      "est\t1\n",
      "est\t1\n",
      "est\t1\n",
      "militate\t1\n",
      "potentia\t1\n",
      "Scientia\t1\n",
      "Vivere\t1\n",
      "Vivere\t1\n"
     ]
    }
   ],
   "source": [
    "print(input_reducer)"
   ]
  },
  {
   "cell_type": "code",
   "execution_count": 42,
   "id": "440a036a",
   "metadata": {},
   "outputs": [
    {
     "name": "stdout",
     "output_type": "stream",
     "text": [
      "cogitare\t1\n",
      "est\t3\n",
      "militate\t1\n",
      "potentia\t1\n",
      "Scientia\t1\n",
      "Vivere\t2\n"
     ]
    }
   ],
   "source": [
    "# reducer\n",
    "import sys\n",
    "\n",
    "last_key, sum_ = None, 0\n",
    "\n",
    "for line in input_reducer.split('\\n'): # sys.stdin\n",
    "    key, value = line.strip().split('\\t')\n",
    "    if last_key and key != last_key:\n",
    "        print('\\t'.join([last_key, str(sum_)]))\n",
    "        last_key, sum_ = key, int(value)\n",
    "    else:\n",
    "        last_key, sum_ = key, sum_ + int(value)\n",
    "\n",
    "if last_key:\n",
    "    print('\\t'.join([last_key, str(sum_)]))"
   ]
  },
  {
   "cell_type": "code",
   "execution_count": null,
   "id": "d9fe9f48",
   "metadata": {},
   "outputs": [],
   "source": []
  }
 ],
 "metadata": {
  "kernelspec": {
   "display_name": "Python 3",
   "language": "python",
   "name": "python3"
  },
  "language_info": {
   "codemirror_mode": {
    "name": "ipython",
    "version": 3
   },
   "file_extension": ".py",
   "mimetype": "text/x-python",
   "name": "python",
   "nbconvert_exporter": "python",
   "pygments_lexer": "ipython3",
   "version": "3.8.8"
  }
 },
 "nbformat": 4,
 "nbformat_minor": 5
}
