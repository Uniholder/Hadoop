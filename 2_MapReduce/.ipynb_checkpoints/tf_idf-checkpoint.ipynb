{
 "cells": [
  {
   "cell_type": "code",
   "execution_count": null,
   "metadata": {
    "id": "2HUj2AqWYRge"
   },
   "outputs": [],
   "source": [
    "import re"
   ]
  },
  {
   "cell_type": "code",
   "execution_count": 24,
   "metadata": {
    "id": "OkS85oPlLMAo"
   },
   "outputs": [],
   "source": [
    "input_ = '1:aut Caesar aut nihil\\n\\\n",
    "1:aut aut\\n\\\n",
    "2:de mortuis aut bene aut nihil\\n\\\n",
    "3:asd:qwe'"
   ]
  },
  {
   "cell_type": "code",
   "execution_count": 31,
   "metadata": {
    "id": "Q-RILc2OWSvG"
   },
   "outputs": [],
   "source": [
    "input_ = '1:xxx:xxx:xxx\\n\\\n",
    "2:xxx::xxx::xxx::\\n\\\n",
    "3:xxx:::xxx:::xxx:::\\n\\\n",
    "4::::xxx:xxx:xxx'"
   ]
  },
  {
   "cell_type": "code",
   "execution_count": 32,
   "metadata": {
    "colab": {
     "base_uri": "https://localhost:8080/"
    },
    "id": "_NlGmHEtLq8U",
    "outputId": "7a40f623-93de-4e6b-e7e7-3158c4cab791"
   },
   "outputs": [
    {
     "name": "stdout",
     "output_type": "stream",
     "text": [
      "1:xxx:xxx:xxx\n",
      "2:xxx::xxx::xxx::\n",
      "3:xxx:::xxx:::xxx:::\n",
      "4::::xxx:xxx:xxx\n"
     ]
    }
   ],
   "source": [
    "print(input_)"
   ]
  },
  {
   "cell_type": "code",
   "execution_count": 26,
   "metadata": {
    "id": "XOhBHbVkLsfF"
   },
   "outputs": [],
   "source": [
    "class MapperTf():\n",
    "    def map(self, docname, text):\n",
    "        for word in text:\n",
    "            print('#'.join([word, docname]), '1', sep='\\t')"
   ]
  },
  {
   "cell_type": "code",
   "execution_count": 43,
   "metadata": {
    "colab": {
     "base_uri": "https://localhost:8080/"
    },
    "id": "Q0IEQVSVOPbO",
    "outputId": "c20e42f2-faf0-4a42-a39b-97850aba3a4b"
   },
   "outputs": [
    {
     "name": "stdout",
     "output_type": "stream",
     "text": [
      "xxx#1\t1\n",
      "xxx#1\t1\n",
      "xxx#1\t1\n",
      "xxx#2\t1\n",
      "xxx#2\t1\n",
      "xxx#2\t1\n",
      "xxx#3\t1\n",
      "xxx#3\t1\n",
      "xxx#3\t1\n",
      "xxx#4\t1\n",
      "xxx#4\t1\n",
      "xxx#4\t1\n"
     ]
    }
   ],
   "source": [
    "mapper = MapperTf()\n",
    "last_doc, text = None, []\n",
    "for line in input_.strip().split('\\n'):\n",
    "    docname, words = line.strip().split(':', maxsplit=1)\n",
    "    words = re.sub(r'[^a-zA-Z0-9]', ' ', words)\n",
    "    words = re.split('\\W+', words.strip())\n",
    "    # print(words)\n",
    "    if last_doc and docname != last_doc:\n",
    "        mapper.map(last_doc, text)\n",
    "        last_doc, text = docname, []\n",
    "        text.extend(words)\n",
    "    else:\n",
    "        text.extend(words)\n",
    "        last_doc = docname\n",
    "if last_doc:\n",
    "    mapper.map(last_doc, text)"
   ]
  },
  {
   "cell_type": "code",
   "execution_count": 1,
   "metadata": {
    "id": "1u4i1tQCPbiG"
   },
   "outputs": [],
   "source": [
    "input_ = 'aut#1\t1\\n\\\n",
    "aut#1\t1\\n\\\n",
    "aut#1\t1\\n\\\n",
    "aut#1\t1\\n\\\n",
    "aut#2\t1\\n\\\n",
    "aut#2\t1\\n\\\n",
    "bene#2\t1\\n\\\n",
    "de#2\t1\\n\\\n",
    "mortuis#2\t1\\n\\\n",
    "nihil#1\t1\\n\\\n",
    "nihil#2\t1\\n\\\n",
    "Caesar#1\t1'"
   ]
  },
  {
   "cell_type": "code",
   "execution_count": 2,
   "metadata": {},
   "outputs": [
    {
     "name": "stdout",
     "output_type": "stream",
     "text": [
      "aut#1\t1\n",
      "aut#1\t1\n",
      "aut#1\t1\n",
      "aut#1\t1\n",
      "aut#2\t1\n",
      "aut#2\t1\n",
      "bene#2\t1\n",
      "de#2\t1\n",
      "mortuis#2\t1\n",
      "nihil#1\t1\n",
      "nihil#2\t1\n",
      "Caesar#1\t1\n"
     ]
    }
   ],
   "source": [
    "print(input_)"
   ]
  },
  {
   "cell_type": "code",
   "execution_count": null,
   "metadata": {},
   "outputs": [],
   "source": []
  }
 ],
 "metadata": {
  "colab": {
   "name": "Untitled5.ipynb",
   "provenance": []
  },
  "kernelspec": {
   "display_name": "Python 3",
   "language": "python",
   "name": "python3"
  },
  "language_info": {
   "codemirror_mode": {
    "name": "ipython",
    "version": 3
   },
   "file_extension": ".py",
   "mimetype": "text/x-python",
   "name": "python",
   "nbconvert_exporter": "python",
   "pygments_lexer": "ipython3",
   "version": "3.8.8"
  }
 },
 "nbformat": 4,
 "nbformat_minor": 1
}
