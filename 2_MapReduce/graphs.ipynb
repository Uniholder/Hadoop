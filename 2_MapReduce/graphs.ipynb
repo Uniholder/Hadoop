{
  "nbformat": 4,
  "nbformat_minor": 0,
  "metadata": {
    "colab": {
      "name": "Untitled6.ipynb",
      "provenance": []
    },
    "kernelspec": {
      "name": "python3",
      "display_name": "Python 3"
    },
    "language_info": {
      "name": "python"
    }
  },
  "cells": [
    {
      "cell_type": "code",
      "metadata": {
        "id": "XKLu1xXTvY9A"
      },
      "source": [
        "input_ = '4 8\\n\\\n",
        "1 2 6\\n\\\n",
        "1 3 2\\n\\\n",
        "1 4 10\\n\\\n",
        "2 4 4\\n\\\n",
        "3 1 5\\n\\\n",
        "3 2 3\\n\\\n",
        "3 4 8\\n\\\n",
        "4 2 1\\n\\\n",
        "1 4'"
      ],
      "execution_count": 222,
      "outputs": []
    },
    {
      "cell_type": "code",
      "metadata": {
        "id": "LhgQkPpHqUkz"
      },
      "source": [
        "input_ = '4 4\\n\\\n",
        "1 2 6\\n\\\n",
        "1 3 2\\n\\\n",
        "3 1 5\\n\\\n",
        "4 3 1\\n\\\n",
        "1 4'"
      ],
      "execution_count": 212,
      "outputs": []
    },
    {
      "cell_type": "code",
      "metadata": {
        "colab": {
          "base_uri": "https://localhost:8080/"
        },
        "id": "SygDSYIlvqKI",
        "outputId": "ff879f98-e0cd-4d7f-b795-680cda207217"
      },
      "source": [
        "print(input_)"
      ],
      "execution_count": 223,
      "outputs": [
        {
          "output_type": "stream",
          "text": [
            "4 8\n",
            "1 2 6\n",
            "1 3 2\n",
            "1 4 10\n",
            "2 4 4\n",
            "3 1 5\n",
            "3 2 3\n",
            "3 4 8\n",
            "4 2 1\n",
            "1 4\n"
          ],
          "name": "stdout"
        }
      ]
    },
    {
      "cell_type": "code",
      "metadata": {
        "id": "_3TYQgdjzpYK"
      },
      "source": [
        "import numpy as np\n",
        "import numpy.ma as ma"
      ],
      "execution_count": 224,
      "outputs": []
    },
    {
      "cell_type": "code",
      "metadata": {
        "id": "QIWu5TMzvs8n"
      },
      "source": [
        "def prepare_data(input_):\n",
        "    lines = input_.split('\\n')\n",
        "    n_v, n_e = map(int, lines[0].split(' '))\n",
        "    vertices, edges = set(), np.zeros((n_v, n_v))\n",
        "    for i in range(1, n_e + 1):\n",
        "        vertice_from, vertice_to, weight = map(int, lines[i].strip().split(' '))\n",
        "        vertices.add(vertice_from); vertices.add(vertice_to)\n",
        "        edges[vertice_from - 1, vertice_to - 1] = weight\n",
        "    from_, to = map(int, lines[-1].split(' '))\n",
        "    return list(vertices), edges, from_, to"
      ],
      "execution_count": 225,
      "outputs": []
    },
    {
      "cell_type": "code",
      "metadata": {
        "id": "-VSzrMkC8cGo"
      },
      "source": [
        "vertices, edges, v_from, v_to = prepare_data(input_)"
      ],
      "execution_count": 226,
      "outputs": []
    },
    {
      "cell_type": "code",
      "metadata": {
        "colab": {
          "base_uri": "https://localhost:8080/"
        },
        "id": "8kijctPz0CO6",
        "outputId": "b5151d8b-5057-4e68-a799-74d0f263ed1c"
      },
      "source": [
        "vertices"
      ],
      "execution_count": 227,
      "outputs": [
        {
          "output_type": "execute_result",
          "data": {
            "text/plain": [
              "[1, 2, 3, 4]"
            ]
          },
          "metadata": {
            "tags": []
          },
          "execution_count": 227
        }
      ]
    },
    {
      "cell_type": "code",
      "metadata": {
        "colab": {
          "base_uri": "https://localhost:8080/"
        },
        "id": "M0nzSuIP1QCr",
        "outputId": "4dc4241e-b083-4355-ce96-065152bf894a"
      },
      "source": [
        "edges"
      ],
      "execution_count": 228,
      "outputs": [
        {
          "output_type": "execute_result",
          "data": {
            "text/plain": [
              "array([[ 0.,  6.,  2., 10.],\n",
              "       [ 0.,  0.,  0.,  4.],\n",
              "       [ 5.,  3.,  0.,  8.],\n",
              "       [ 0.,  1.,  0.,  0.]])"
            ]
          },
          "metadata": {
            "tags": []
          },
          "execution_count": 228
        }
      ]
    },
    {
      "cell_type": "code",
      "metadata": {
        "id": "O9z8-aHT9CBP"
      },
      "source": [
        "def find_route(vertices, edges, v_from):\n",
        "    visited = np.array([False] * len(vertices)) # true = visited vert\n",
        "    routes_w = ma.array([np.float('inf')] * len(vertices), mask=visited)\n",
        "    routes_w[v_from-1] = 0\n",
        "    \n",
        "    while not visited.all():\n",
        "        if routes_w.min() == np.float('inf'):\n",
        "            return routes_w.data\n",
        "        cur_vert = routes_w.argmin() # номер минимального непосещенного узла\n",
        "        for v, weight in enumerate(edges[cur_vert]):\n",
        "            if weight: # exclude zero-edges: they don't exist\n",
        "                if routes_w[v] > routes_w[cur_vert] + weight:\n",
        "                    routes_w[v] = routes_w[cur_vert] + weight\n",
        "        visited[cur_vert] = True # mark visited\n",
        "        routes_w.mask = visited # change mask of masked array\n",
        "\n",
        "    return routes_w.data"
      ],
      "execution_count": 229,
      "outputs": []
    },
    {
      "cell_type": "code",
      "metadata": {
        "colab": {
          "base_uri": "https://localhost:8080/"
        },
        "id": "GMO4ruGHcFY9",
        "outputId": "9fe895ea-8634-4a1e-fa3c-15999dfbccf7"
      },
      "source": [
        "routes_w = find_route(vertices, edges, v_from)\n",
        "routes_w"
      ],
      "execution_count": 230,
      "outputs": [
        {
          "output_type": "execute_result",
          "data": {
            "text/plain": [
              "array([0., 5., 2., 9.])"
            ]
          },
          "metadata": {
            "tags": []
          },
          "execution_count": 230
        }
      ]
    },
    {
      "cell_type": "code",
      "metadata": {
        "colab": {
          "base_uri": "https://localhost:8080/"
        },
        "id": "J2ma32Njw95S",
        "outputId": "00eb62b0-cb2a-46cc-d93f-61b63b554f0b"
      },
      "source": [
        "print(int(routes_w[v_to-1])) if routes_w[v_to-1] != np.float('inf') else print(-1)"
      ],
      "execution_count": 232,
      "outputs": [
        {
          "output_type": "stream",
          "text": [
            "9\n"
          ],
          "name": "stdout"
        }
      ]
    },
    {
      "cell_type": "code",
      "metadata": {
        "id": "UJNnS1a9mqB4"
      },
      "source": [
        "def print_distance(routes_w, v_to):\n",
        "    # distance = routes_w[v_to-1]\n",
        "    if v_to-1 >= len(routes_w) or routes_w[v_to-1] == np.float('inf'):\n",
        "        print(-1)\n",
        "    else:\n",
        "        print(int(routes_w[v_to-1]))"
      ],
      "execution_count": 237,
      "outputs": []
    },
    {
      "cell_type": "code",
      "metadata": {
        "colab": {
          "base_uri": "https://localhost:8080/"
        },
        "id": "Xh02maCZ1Kgt",
        "outputId": "73c6d5f3-ced4-4ec1-89f5-cb8c859e94b4"
      },
      "source": [
        "print_distance(routes_w, 5)"
      ],
      "execution_count": 239,
      "outputs": [
        {
          "output_type": "stream",
          "text": [
            "-1\n"
          ],
          "name": "stdout"
        }
      ]
    }
  ]
}