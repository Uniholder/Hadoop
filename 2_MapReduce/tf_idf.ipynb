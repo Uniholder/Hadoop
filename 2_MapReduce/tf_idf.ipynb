{
  "nbformat": 4,
  "nbformat_minor": 0,
  "metadata": {
    "colab": {
      "name": "Untitled5.ipynb",
      "provenance": []
    },
    "kernelspec": {
      "name": "python3",
      "display_name": "Python 3"
    },
    "language_info": {
      "name": "python"
    }
  },
  "cells": [
    {
      "cell_type": "code",
      "metadata": {
        "id": "OkS85oPlLMAo"
      },
      "source": [
        "input_ = '1:aut Caesar aut nihil\\n\\\n",
        "1:aut aut\\n\\\n",
        "2:de mortuis aut bene aut nihil\\n\\\n",
        "3:asd:qwe'"
      ],
      "execution_count": 24,
      "outputs": []
    },
    {
      "cell_type": "code",
      "metadata": {
        "id": "Q-RILc2OWSvG"
      },
      "source": [
        "input_ = '1:xxx:xxx:xxx\\n\\\n",
        "2:xxx::xxx::xxx::\\n\\\n",
        "3:xxx:::xxx:::xxx:::\\n\\\n",
        "4::::xxx:xxx:xxx'"
      ],
      "execution_count": 31,
      "outputs": []
    },
    {
      "cell_type": "code",
      "metadata": {
        "colab": {
          "base_uri": "https://localhost:8080/"
        },
        "id": "_NlGmHEtLq8U",
        "outputId": "7a40f623-93de-4e6b-e7e7-3158c4cab791"
      },
      "source": [
        "print(input_)"
      ],
      "execution_count": 32,
      "outputs": [
        {
          "output_type": "stream",
          "text": [
            "1:xxx:xxx:xxx\n",
            "2:xxx::xxx::xxx::\n",
            "3:xxx:::xxx:::xxx:::\n",
            "4::::xxx:xxx:xxx\n"
          ],
          "name": "stdout"
        }
      ]
    },
    {
      "cell_type": "code",
      "metadata": {
        "id": "XOhBHbVkLsfF"
      },
      "source": [
        "class MapperTf():\n",
        "    def map(self, docname, text):\n",
        "        for word in text:\n",
        "            print('#'.join([word, docname]), '1', sep='\\t')"
      ],
      "execution_count": 26,
      "outputs": []
    },
    {
      "cell_type": "code",
      "metadata": {
        "id": "2HUj2AqWYRge"
      },
      "source": [
        "import re"
      ],
      "execution_count": null,
      "outputs": []
    },
    {
      "cell_type": "code",
      "metadata": {
        "colab": {
          "base_uri": "https://localhost:8080/"
        },
        "id": "Q0IEQVSVOPbO",
        "outputId": "c20e42f2-faf0-4a42-a39b-97850aba3a4b"
      },
      "source": [
        "mapper = MapperTf()\n",
        "last_doc, text = None, []\n",
        "for line in input_.strip().split('\\n'):\n",
        "    docname, words = line.strip().split(':', maxsplit=1)\n",
        "    words = re.sub(r'[^a-zA-Z0-9]', ' ', words)\n",
        "    words = re.split('\\W+', words.strip())\n",
        "    # print(words)\n",
        "    if last_doc and docname != last_doc:\n",
        "        mapper.map(last_doc, text)\n",
        "        last_doc, text = docname, []\n",
        "        text.extend(words)\n",
        "    else:\n",
        "        text.extend(words)\n",
        "        last_doc = docname\n",
        "if last_doc:\n",
        "    mapper.map(last_doc, text)"
      ],
      "execution_count": 43,
      "outputs": [
        {
          "output_type": "stream",
          "text": [
            "xxx#1\t1\n",
            "xxx#1\t1\n",
            "xxx#1\t1\n",
            "xxx#2\t1\n",
            "xxx#2\t1\n",
            "xxx#2\t1\n",
            "xxx#3\t1\n",
            "xxx#3\t1\n",
            "xxx#3\t1\n",
            "xxx#4\t1\n",
            "xxx#4\t1\n",
            "xxx#4\t1\n"
          ],
          "name": "stdout"
        }
      ]
    },
    {
      "cell_type": "code",
      "metadata": {
        "id": "1u4i1tQCPbiG"
      },
      "source": [
        ""
      ],
      "execution_count": null,
      "outputs": []
    }
  ]
}