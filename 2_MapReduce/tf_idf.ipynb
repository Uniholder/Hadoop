{
 "cells": [
  {
   "cell_type": "code",
   "execution_count": null,
   "metadata": {
    "id": "2HUj2AqWYRge"
   },
   "outputs": [],
   "source": [
    "import re"
   ]
  },
  {
   "cell_type": "code",
   "execution_count": 7,
   "metadata": {
    "id": "OkS85oPlLMAo"
   },
   "outputs": [],
   "source": [
    "input_ = '1:aut Caesar aut nihil\\n\\\n",
    "1:aut aut\\n\\\n",
    "2:de mortuis aut bene aut nihil\\n\\\n",
    "3:asd:qwe'"
   ]
  },
  {
   "cell_type": "code",
   "execution_count": 8,
   "metadata": {},
   "outputs": [
    {
     "name": "stdout",
     "output_type": "stream",
     "text": [
      "1:aut Caesar aut nihil\n",
      "1:aut aut\n",
      "2:de mortuis aut bene aut nihil\n",
      "3:asd:qwe\n"
     ]
    }
   ],
   "source": [
    "print(input_)"
   ]
  },
  {
   "cell_type": "code",
   "execution_count": 31,
   "metadata": {
    "id": "Q-RILc2OWSvG"
   },
   "outputs": [],
   "source": [
    "input_ = '1:xxx:xxx:xxx\\n\\\n",
    "2:xxx::xxx::xxx::\\n\\\n",
    "3:xxx:::xxx:::xxx:::\\n\\\n",
    "4::::xxx:xxx:xxx'"
   ]
  },
  {
   "cell_type": "code",
   "execution_count": 32,
   "metadata": {
    "colab": {
     "base_uri": "https://localhost:8080/"
    },
    "id": "_NlGmHEtLq8U",
    "outputId": "7a40f623-93de-4e6b-e7e7-3158c4cab791"
   },
   "outputs": [
    {
     "name": "stdout",
     "output_type": "stream",
     "text": [
      "1:xxx:xxx:xxx\n",
      "2:xxx::xxx::xxx::\n",
      "3:xxx:::xxx:::xxx:::\n",
      "4::::xxx:xxx:xxx\n"
     ]
    }
   ],
   "source": [
    "print(input_)"
   ]
  },
  {
   "cell_type": "code",
   "execution_count": 26,
   "metadata": {
    "id": "XOhBHbVkLsfF"
   },
   "outputs": [],
   "source": [
    "class MapperTf():\n",
    "    def map(self, docname, text):\n",
    "        for word in text:\n",
    "            print('#'.join([word, docname]), '1', sep='\\t')"
   ]
  },
  {
   "cell_type": "code",
   "execution_count": 43,
   "metadata": {
    "colab": {
     "base_uri": "https://localhost:8080/"
    },
    "id": "Q0IEQVSVOPbO",
    "outputId": "c20e42f2-faf0-4a42-a39b-97850aba3a4b"
   },
   "outputs": [
    {
     "name": "stdout",
     "output_type": "stream",
     "text": [
      "xxx#1\t1\n",
      "xxx#1\t1\n",
      "xxx#1\t1\n",
      "xxx#2\t1\n",
      "xxx#2\t1\n",
      "xxx#2\t1\n",
      "xxx#3\t1\n",
      "xxx#3\t1\n",
      "xxx#3\t1\n",
      "xxx#4\t1\n",
      "xxx#4\t1\n",
      "xxx#4\t1\n"
     ]
    }
   ],
   "source": [
    "mapper = MapperTf()\n",
    "last_doc, text = None, []\n",
    "for line in input_.strip().split('\\n'):\n",
    "    docname, words = line.strip().split(':', maxsplit=1)\n",
    "    words = re.sub(r'[^a-zA-Z0-9]', ' ', words)\n",
    "    words = re.split('\\W+', words.strip())\n",
    "    # print(words)\n",
    "    if last_doc and docname != last_doc:\n",
    "        mapper.map(last_doc, text)\n",
    "        last_doc, text = docname, []\n",
    "        text.extend(words)\n",
    "    else:\n",
    "        text.extend(words)\n",
    "        last_doc = docname\n",
    "if last_doc:\n",
    "    mapper.map(last_doc, text)"
   ]
  },
  {
   "cell_type": "code",
   "execution_count": 1,
   "metadata": {
    "id": "1u4i1tQCPbiG"
   },
   "outputs": [],
   "source": [
    "input_ = 'aut#1\t1\\n\\\n",
    "aut#1\t1\\n\\\n",
    "aut#1\t1\\n\\\n",
    "aut#1\t1\\n\\\n",
    "aut#2\t1\\n\\\n",
    "aut#2\t1\\n\\\n",
    "bene#2\t1\\n\\\n",
    "de#2\t1\\n\\\n",
    "mortuis#2\t1\\n\\\n",
    "nihil#1\t1\\n\\\n",
    "nihil#2\t1\\n\\\n",
    "Caesar#1\t1'"
   ]
  },
  {
   "cell_type": "code",
   "execution_count": 2,
   "metadata": {},
   "outputs": [
    {
     "name": "stdout",
     "output_type": "stream",
     "text": [
      "aut#1\t1\n",
      "aut#1\t1\n",
      "aut#1\t1\n",
      "aut#1\t1\n",
      "aut#2\t1\n",
      "aut#2\t1\n",
      "bene#2\t1\n",
      "de#2\t1\n",
      "mortuis#2\t1\n",
      "nihil#1\t1\n",
      "nihil#2\t1\n",
      "Caesar#1\t1\n"
     ]
    }
   ],
   "source": [
    "print(input_)"
   ]
  },
  {
   "cell_type": "code",
   "execution_count": 3,
   "metadata": {},
   "outputs": [],
   "source": [
    "class ReducerTf():\n",
    "    def reduce(self, key, counter):\n",
    "        word, docname = key.strip().split('#')\n",
    "        print(word, docname, counter, sep='\\t')"
   ]
  },
  {
   "cell_type": "code",
   "execution_count": 6,
   "metadata": {},
   "outputs": [
    {
     "name": "stdout",
     "output_type": "stream",
     "text": [
      "aut\t1\t4\n",
      "aut\t2\t2\n",
      "bene\t2\t1\n",
      "de\t2\t1\n",
      "mortuis\t2\t1\n",
      "nihil\t1\t1\n",
      "nihil\t2\t1\n",
      "Caesar\t1\t1\n"
     ]
    }
   ],
   "source": [
    "reducer = ReducerTf()\n",
    "last_k, sum_ = None, 0\n",
    "for line in input_.strip().split('\\n'):\n",
    "    key, counter = line.strip().split('\\t')\n",
    "    if last_k and key != last_k:\n",
    "        reducer.reduce(last_k, sum_)\n",
    "        last_k, sum_ = key, int(counter)\n",
    "    else:\n",
    "        sum_ += int(counter)\n",
    "        last_k = key\n",
    "if last_k:\n",
    "    reducer.reduce(last_k, sum_)"
   ]
  },
  {
   "cell_type": "code",
   "execution_count": 9,
   "metadata": {},
   "outputs": [],
   "source": [
    "input_ = 'aut\t1\t4\\n\\\n",
    "aut\t2\t2\\n\\\n",
    "bene\t2\t1\\n\\\n",
    "de\t2\t1\\n\\\n",
    "mortuis\t2\t1\\n\\\n",
    "nihil\t1\t1\\n\\\n",
    "nihil\t2\t1\\n\\\n",
    "Caesar\t1\t1'"
   ]
  },
  {
   "cell_type": "code",
   "execution_count": 12,
   "metadata": {},
   "outputs": [],
   "source": [
    "class MapperIdf():\n",
    "    def map(self, line):\n",
    "        word, docname, tf = line.strip().split('\\t')\n",
    "        print(word, ';'.join([docname, tf, '1']), sep='\\t')"
   ]
  },
  {
   "cell_type": "code",
   "execution_count": 13,
   "metadata": {},
   "outputs": [
    {
     "name": "stdout",
     "output_type": "stream",
     "text": [
      "aut\t1;4;1\n",
      "aut\t2;2;1\n",
      "bene\t2;1;1\n",
      "de\t2;1;1\n",
      "mortuis\t2;1;1\n",
      "nihil\t1;1;1\n",
      "nihil\t2;1;1\n",
      "Caesar\t1;1;1\n"
     ]
    }
   ],
   "source": [
    "mapper = MapperIdf()\n",
    "for line in input_.strip().split('\\n'):\n",
    "    mapper.map(line)"
   ]
  },
  {
   "cell_type": "code",
   "execution_count": 14,
   "metadata": {},
   "outputs": [],
   "source": [
    "input_ = 'aut\t1;4;1\\n\\\n",
    "aut\t2;2;1\\n\\\n",
    "bene\t2;1;1\\n\\\n",
    "de\t2;1;1\\n\\\n",
    "mortuis\t2;1;1\\n\\\n",
    "nihil\t1;1;1\\n\\\n",
    "nihil\t2;1;1\\n\\\n",
    "Caesar\t1;1;1'"
   ]
  },
  {
   "cell_type": "code",
   "execution_count": 15,
   "metadata": {},
   "outputs": [
    {
     "name": "stdout",
     "output_type": "stream",
     "text": [
      "aut\t1;4;1\n",
      "aut\t2;2;1\n",
      "bene\t2;1;1\n",
      "de\t2;1;1\n",
      "mortuis\t2;1;1\n",
      "nihil\t1;1;1\n",
      "nihil\t2;1;1\n",
      "Caesar\t1;1;1\n"
     ]
    }
   ],
   "source": [
    "print(input_)"
   ]
  },
  {
   "cell_type": "code",
   "execution_count": 28,
   "metadata": {},
   "outputs": [],
   "source": [
    "class ReducerIdf():\n",
    "    def reduce(self, word, values):\n",
    "        sum_ = 0\n",
    "        for value in values:\n",
    "            _, _, counter = value.strip().split(';')\n",
    "            sum_ += int(counter)\n",
    "        for value in values:\n",
    "            docname, tf, _ = value.strip().split(';')\n",
    "            print('#'.join([word, docname]), tf, sum_, sep='\\t')"
   ]
  },
  {
   "cell_type": "code",
   "execution_count": 31,
   "metadata": {},
   "outputs": [
    {
     "name": "stdout",
     "output_type": "stream",
     "text": [
      "aut#1\t4\t2\n",
      "aut#2\t2\t2\n",
      "bene#2\t1\t1\n",
      "de#2\t1\t1\n",
      "mortuis#2\t1\t1\n",
      "nihil#1\t1\t2\n",
      "nihil#2\t1\t2\n",
      "Caesar#1\t1\t1\n"
     ]
    }
   ],
   "source": [
    "reducer = ReducerIdf()\n",
    "last_word, values = None, []\n",
    "for line in input_.strip().split('\\n'):\n",
    "    word, value = line.strip().split('\\t')\n",
    "    if last_word and word != last_word:\n",
    "        reducer.reduce(last_word, values)\n",
    "        last_word, values = word, []\n",
    "        values.append(value)\n",
    "    else:\n",
    "        last_word = word\n",
    "        values.append(value)\n",
    "if last_word:\n",
    "    reducer.reduce(last_word, values)"
   ]
  },
  {
   "cell_type": "code",
   "execution_count": null,
   "metadata": {},
   "outputs": [],
   "source": []
  }
 ],
 "metadata": {
  "colab": {
   "name": "Untitled5.ipynb",
   "provenance": []
  },
  "kernelspec": {
   "display_name": "Python 3",
   "language": "python",
   "name": "python3"
  },
  "language_info": {
   "codemirror_mode": {
    "name": "ipython",
    "version": 3
   },
   "file_extension": ".py",
   "mimetype": "text/x-python",
   "name": "python",
   "nbconvert_exporter": "python",
   "pygments_lexer": "ipython3",
   "version": "3.8.8"
  }
 },
 "nbformat": 4,
 "nbformat_minor": 1
}
