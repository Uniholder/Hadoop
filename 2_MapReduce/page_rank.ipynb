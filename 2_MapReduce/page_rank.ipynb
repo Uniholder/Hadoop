{
  "nbformat": 4,
  "nbformat_minor": 0,
  "metadata": {
    "colab": {
      "name": "Untitled6.ipynb",
      "provenance": []
    },
    "kernelspec": {
      "name": "python3",
      "display_name": "Python 3"
    },
    "language_info": {
      "name": "python"
    }
  },
  "cells": [
    {
      "cell_type": "code",
      "metadata": {
        "id": "5IlUu1b1uSAx"
      },
      "source": [
        "input_ = '1\t0.200\t{2,4}\\n\\\n",
        "2\t0.200\t{3,5}\\n\\\n",
        "3\t0.200\t{4}\\n\\\n",
        "4\t0.200\t{5}\\n\\\n",
        "5\t0.200\t{1,2,3}'"
      ],
      "execution_count": 1,
      "outputs": []
    },
    {
      "cell_type": "code",
      "metadata": {
        "colab": {
          "base_uri": "https://localhost:8080/"
        },
        "id": "OQNuLjEiu6Ha",
        "outputId": "920344a1-241b-40dc-96da-1effe40d8f23"
      },
      "source": [
        "print(input_)"
      ],
      "execution_count": 3,
      "outputs": [
        {
          "output_type": "stream",
          "text": [
            "1\t0.200\t{2,4}\n",
            "2\t0.200\t{3,5}\n",
            "3\t0.200\t{4}\n",
            "4\t0.200\t{5}\n",
            "5\t0.200\t{1,2,3}\n"
          ],
          "name": "stdout"
        }
      ]
    },
    {
      "cell_type": "code",
      "metadata": {
        "id": "RzSNvC0vu8-W"
      },
      "source": [
        "class MapperPagerank():\n",
        "    def map(self, input_):\n",
        "        v, pr, childs = input_.strip().split('\\t')\n",
        "        print(input_.strip())\n",
        "        childs = childs.strip('{}').split(',')\n",
        "        p = float(pr) / len(childs)\n",
        "        for ch in childs:\n",
        "            print(ch, f'{p:.3f}', '{}', sep='\\t')"
      ],
      "execution_count": 17,
      "outputs": []
    },
    {
      "cell_type": "code",
      "metadata": {
        "colab": {
          "base_uri": "https://localhost:8080/"
        },
        "id": "p5LdJwBMw9xn",
        "outputId": "e4a55753-1315-4c2a-a8b0-c966dabbe430"
      },
      "source": [
        "mapper = MapperPagerank()\n",
        "for line in input_.strip().split('\\n'):\n",
        "    mapper.map(line)"
      ],
      "execution_count": 18,
      "outputs": [
        {
          "output_type": "stream",
          "text": [
            "1\t0.200\t{2,4}\n",
            "2\t0.100\t{}\n",
            "4\t0.100\t{}\n",
            "2\t0.200\t{3,5}\n",
            "3\t0.100\t{}\n",
            "5\t0.100\t{}\n",
            "3\t0.200\t{4}\n",
            "4\t0.200\t{}\n",
            "4\t0.200\t{5}\n",
            "5\t0.200\t{}\n",
            "5\t0.200\t{1,2,3}\n",
            "1\t0.067\t{}\n",
            "2\t0.067\t{}\n",
            "3\t0.067\t{}\n"
          ],
          "name": "stdout"
        }
      ]
    },
    {
      "cell_type": "code",
      "metadata": {
        "id": "lsUqAckQzM-y"
      },
      "source": [
        "input_ = '1\t0.067\t{}\\n\\\n",
        "1\t0.200\t{2,4}\\n\\\n",
        "2\t0.067\t{}\\n\\\n",
        "2\t0.100\t{}\\n\\\n",
        "2\t0.200\t{3,5}\\n\\\n",
        "3\t0.067\t{}\\n\\\n",
        "3\t0.100\t{}\\n\\\n",
        "3\t0.200\t{4}\\n\\\n",
        "4\t0.100\t{}\\n\\\n",
        "4\t0.200\t{}\\n\\\n",
        "4\t0.200\t{5}\\n\\\n",
        "5\t0.100\t{}\\n\\\n",
        "5\t0.200\t{}\\n\\\n",
        "5\t0.200\t{1,2,3}'"
      ],
      "execution_count": 19,
      "outputs": []
    },
    {
      "cell_type": "code",
      "metadata": {
        "colab": {
          "base_uri": "https://localhost:8080/"
        },
        "id": "vDHK6NAxzUqz",
        "outputId": "b8c57325-f4c9-495c-fc4b-dfe1cd99c25f"
      },
      "source": [
        "print(input_)"
      ],
      "execution_count": 20,
      "outputs": [
        {
          "output_type": "stream",
          "text": [
            "1\t0.067\t{}\n",
            "1\t0.200\t{2,4}\n",
            "2\t0.067\t{}\n",
            "2\t0.100\t{}\n",
            "2\t0.200\t{3,5}\n",
            "3\t0.067\t{}\n",
            "3\t0.100\t{}\n",
            "3\t0.200\t{4}\n",
            "4\t0.100\t{}\n",
            "4\t0.200\t{}\n",
            "4\t0.200\t{5}\n",
            "5\t0.100\t{}\n",
            "5\t0.200\t{}\n",
            "5\t0.200\t{1,2,3}\n"
          ],
          "name": "stdout"
        }
      ]
    },
    {
      "cell_type": "code",
      "metadata": {
        "id": "TWA7KA9JxwWo"
      },
      "source": [
        "class ReducerPagerank():\n",
        "    def reduce(self, v, values):\n",
        "        pr, childs = 0, '{}'\n",
        "        for p, struct in values:\n",
        "            if struct != '{}':\n",
        "                childs = struct\n",
        "            else:\n",
        "                pr += float(p)\n",
        "        print(v, f'{pr:.3f}', childs, sep='\\t')"
      ],
      "execution_count": 23,
      "outputs": []
    },
    {
      "cell_type": "code",
      "metadata": {
        "colab": {
          "base_uri": "https://localhost:8080/"
        },
        "id": "uEUU3LMSz9My",
        "outputId": "23e6a1b9-8815-4275-f79a-7561c8a25edd"
      },
      "source": [
        "reducer = ReducerPagerank()\n",
        "last_v, values = None, []\n",
        "for line in input_.strip().split('\\n'):\n",
        "    v, pr, childs = line.strip().split('\\t')\n",
        "    if last_v and v != last_v:\n",
        "        reducer.reduce(last_v, values)\n",
        "        last_v, values = v, []\n",
        "        values.append((pr, childs))\n",
        "    else:\n",
        "        last_v = v\n",
        "        values.append((pr, childs))\n",
        "if last_v:\n",
        "    reducer.reduce(last_v, values)"
      ],
      "execution_count": 24,
      "outputs": [
        {
          "output_type": "stream",
          "text": [
            "1\t0.067\t{2,4}\n",
            "2\t0.167\t{3,5}\n",
            "3\t0.167\t{4}\n",
            "4\t0.300\t{5}\n",
            "5\t0.300\t{1,2,3}\n"
          ],
          "name": "stdout"
        }
      ]
    },
    {
      "cell_type": "code",
      "metadata": {
        "id": "D0SrL8d21k3t"
      },
      "source": [
        "class ReducerPagerankWithRandom():\n",
        "    def reduce(self, v, values):\n",
        "        pr, childs = 0, '{}'\n",
        "        alpha, n = 0.1, 5\n",
        "        for p, struct in values:\n",
        "            if struct != '{}':\n",
        "                childs = struct\n",
        "            else:\n",
        "                pr += float(p)\n",
        "        pr = alpha * (1/n) + (1 - alpha) * pr\n",
        "        print(v, f'{pr:.3f}', childs, sep='\\t')"
      ],
      "execution_count": 25,
      "outputs": []
    },
    {
      "cell_type": "code",
      "metadata": {
        "colab": {
          "base_uri": "https://localhost:8080/"
        },
        "id": "tnFDAkA24G3S",
        "outputId": "f8369c8f-5a67-43a3-a3c6-77e5c43514c9"
      },
      "source": [
        "reducer = ReducerPagerankWithRandom()\n",
        "last_v, values = None, []\n",
        "for line in input_.strip().split('\\n'):\n",
        "    v, pr, childs = line.strip().split('\\t')\n",
        "    if last_v and v != last_v:\n",
        "        reducer.reduce(last_v, values)\n",
        "        last_v, values = v, []\n",
        "        values.append((pr, childs))\n",
        "    else:\n",
        "        last_v = v\n",
        "        values.append((pr, childs))\n",
        "if last_v:\n",
        "    reducer.reduce(last_v, values)"
      ],
      "execution_count": 26,
      "outputs": [
        {
          "output_type": "stream",
          "text": [
            "1\t0.080\t{2,4}\n",
            "2\t0.170\t{3,5}\n",
            "3\t0.170\t{4}\n",
            "4\t0.290\t{5}\n",
            "5\t0.290\t{1,2,3}\n"
          ],
          "name": "stdout"
        }
      ]
    },
    {
      "cell_type": "code",
      "metadata": {
        "id": "_JjnQUPN4JSg"
      },
      "source": [
        ""
      ],
      "execution_count": null,
      "outputs": []
    }
  ]
}