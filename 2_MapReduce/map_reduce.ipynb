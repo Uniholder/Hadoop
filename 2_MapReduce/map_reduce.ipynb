{
  "nbformat": 4,
  "nbformat_minor": 0,
  "metadata": {
    "colab": {
      "name": "Untitled4.ipynb",
      "provenance": []
    },
    "kernelspec": {
      "name": "python3",
      "display_name": "Python 3"
    },
    "language_info": {
      "name": "python"
    }
  },
  "cells": [
    {
      "cell_type": "code",
      "metadata": {
        "id": "ot0_O6A21rnn"
      },
      "source": [
        "input_ = 'aut Caesar aut nihil\\naut aut\\nde mortuis aut bene aut nihil'"
      ],
      "execution_count": 20,
      "outputs": []
    },
    {
      "cell_type": "code",
      "metadata": {
        "id": "OJuaI1chs1Id"
      },
      "source": [
        "from collections import defaultdict\n",
        "import sys"
      ],
      "execution_count": 175,
      "outputs": []
    },
    {
      "cell_type": "code",
      "metadata": {
        "id": "fS0Pq9pO1S5v"
      },
      "source": [
        "# map + reduce\n",
        "class Mapper():\n",
        "    def map(self, input_):\n",
        "        result = ''\n",
        "        for token in input_.strip().split():\n",
        "            pair = '\\t'.join([token, '1'])\n",
        "            # print(pair)\n",
        "            yield pair\n",
        "            \n",
        "class Reducer():\n",
        "    def reduce(self, input_):\n",
        "        last_key, sum_ = None, 0\n",
        "\n",
        "        for line in input_.strip().split('\\n'):\n",
        "            key, value = line.strip().split('\\t')\n",
        "            if last_key and key != last_key:\n",
        "                print('\\t'.join([last_key, str(sum_)]))\n",
        "                last_key, sum_ = key, int(value)\n",
        "            else:\n",
        "                last_key, sum_ = key, sum_ + int(value)\n",
        "\n",
        "        if last_key:\n",
        "            print('\\t'.join([last_key, str(sum_)]))"
      ],
      "execution_count": 178,
      "outputs": []
    },
    {
      "cell_type": "code",
      "metadata": {
        "colab": {
          "base_uri": "https://localhost:8080/"
        },
        "id": "85nTmwrbqIPB",
        "outputId": "dc0755dc-1c91-46dd-c4a8-7ce89689c771"
      },
      "source": [
        "mapper = Mapper()\n",
        "mapped = ''\n",
        "for doc in input_.strip().split(): # sys.stdin\n",
        "    for pair in mapper.map(doc):\n",
        "        mapped += '\\n' + pair\n",
        "# sort before reduce\n",
        "mapped = '\\n'.join(sorted(mapped.split('\\n')))\n",
        "reducer = Reducer()\n",
        "reducer.reduce(mapped)"
      ],
      "execution_count": 187,
      "outputs": [
        {
          "output_type": "stream",
          "text": [
            "Caesar\t1\n",
            "aut\t6\n",
            "bene\t1\n",
            "de\t1\n",
            "mortuis\t1\n",
            "nihil\t2\n"
          ],
          "name": "stdout"
        }
      ]
    },
    {
      "cell_type": "code",
      "metadata": {
        "id": "3NHPNqA22hxk"
      },
      "source": [
        "# in-mapper combining v.1\n",
        "class MapperWithCombinerV1():\n",
        "    def map(self, input_):\n",
        "        result = defaultdict(int)\n",
        "        for token in input_.strip().split():\n",
        "            result[token] += 1\n",
        "        for k, v in result.items():\n",
        "            # print('\\t'.join([k, str(v)]))\n",
        "             yield '\\t'.join([k, str(v)])"
      ],
      "execution_count": 200,
      "outputs": []
    },
    {
      "cell_type": "code",
      "metadata": {
        "colab": {
          "base_uri": "https://localhost:8080/"
        },
        "id": "qkvCFbvmwMSf",
        "outputId": "feecddc1-63ea-4231-9be5-a8c782db95d1"
      },
      "source": [
        "mapper = MapperWithCombinerV1()\n",
        "mapped = ''\n",
        "for doc in input_.strip().split('\\n'): # sys.stdin\n",
        "    for pair in mapper.map(doc):\n",
        "        mapped += '\\n' + pair\n",
        "# sort before reduce\n",
        "mapped_sorted = '\\n'.join(sorted(mapped.split('\\n')))\n",
        "reducer = Reducer()\n",
        "reducer.reduce(mapped_sorted)"
      ],
      "execution_count": 204,
      "outputs": [
        {
          "output_type": "stream",
          "text": [
            "Caesar\t1\n",
            "aut\t6\n",
            "bene\t1\n",
            "de\t1\n",
            "mortuis\t1\n",
            "nihil\t2\n"
          ],
          "name": "stdout"
        }
      ]
    },
    {
      "cell_type": "code",
      "metadata": {
        "colab": {
          "base_uri": "https://localhost:8080/"
        },
        "id": "FuQsrAfs9UNj",
        "outputId": "e1a50fc9-b6ac-4058-f04c-90a1d78c7039"
      },
      "source": [
        "print(mapped)"
      ],
      "execution_count": 205,
      "outputs": [
        {
          "output_type": "stream",
          "text": [
            "\n",
            "aut\t2\n",
            "Caesar\t1\n",
            "nihil\t1\n",
            "aut\t2\n",
            "de\t1\n",
            "mortuis\t1\n",
            "aut\t2\n",
            "bene\t1\n",
            "nihil\t1\n"
          ],
          "name": "stdout"
        }
      ]
    },
    {
      "cell_type": "code",
      "metadata": {
        "id": "YKGWVJy_fqP_"
      },
      "source": [
        "# in-mapper combining v.2\n",
        "class MapperWithCombinerV2():\n",
        "    def __init__(self):\n",
        "        self.counter = defaultdict(int)\n",
        "\n",
        "    def map(self, input_):\n",
        "        for token in input_.strip().split():\n",
        "            self.counter[token] += 1\n",
        "    \n",
        "    def close(self):\n",
        "        for k, v in self.counter.items():\n",
        "            # print('\\t'.join([k, str(v)]))\n",
        "             yield '\\t'.join([k, str(v)])"
      ],
      "execution_count": 215,
      "outputs": []
    },
    {
      "cell_type": "code",
      "metadata": {
        "colab": {
          "base_uri": "https://localhost:8080/"
        },
        "id": "5x3O4IWa1Qs9",
        "outputId": "98d0d7b2-4651-4a38-e917-ccd14a18203c"
      },
      "source": [
        "mapper = MapperWithCombinerV2()\n",
        "mapped = ''\n",
        "for doc in input_.strip().split('\\n'): # sys.stdin\n",
        "    mapper.map(doc)\n",
        "for pair in mapper.close():\n",
        "    mapped += '\\n' + pair\n",
        "# sort before reduce\n",
        "mapped_sorted = '\\n'.join(sorted(mapped.split('\\n')))\n",
        "reducer = Reducer()\n",
        "reducer.reduce(mapped_sorted)"
      ],
      "execution_count": 216,
      "outputs": [
        {
          "output_type": "stream",
          "text": [
            "Caesar\t1\n",
            "aut\t6\n",
            "bene\t1\n",
            "de\t1\n",
            "mortuis\t1\n",
            "nihil\t2\n"
          ],
          "name": "stdout"
        }
      ]
    },
    {
      "cell_type": "code",
      "metadata": {
        "colab": {
          "base_uri": "https://localhost:8080/"
        },
        "id": "tEtg2bsX2d7t",
        "outputId": "205373eb-f354-43d8-9e22-9a1dbc8cbf22"
      },
      "source": [
        "print(mapped)"
      ],
      "execution_count": 217,
      "outputs": [
        {
          "output_type": "stream",
          "text": [
            "\n",
            "aut\t6\n",
            "Caesar\t1\n",
            "nihil\t2\n",
            "de\t1\n",
            "mortuis\t1\n",
            "bene\t1\n"
          ],
          "name": "stdout"
        }
      ]
    },
    {
      "cell_type": "code",
      "metadata": {
        "id": "LGc8G71i4VUL"
      },
      "source": [
        "input_ = 'www.facebook.com\\t100\\nwww.google.com\\t10\\nwww.google.com\\t5\\nwww.google.com\\t15\\nwww.stepic.org\\t60\\nwww.stepic.org\\t100'"
      ],
      "execution_count": 218,
      "outputs": []
    },
    {
      "cell_type": "code",
      "metadata": {
        "colab": {
          "base_uri": "https://localhost:8080/"
        },
        "id": "OJDn7CGW4lfn",
        "outputId": "f06cc0d7-4793-4023-c77b-8f294317d8ca"
      },
      "source": [
        "print(input_)"
      ],
      "execution_count": 219,
      "outputs": [
        {
          "output_type": "stream",
          "text": [
            "www.facebook.com\t100\n",
            "www.google.com\t10\n",
            "www.google.com\t5\n",
            "www.google.com\t15\n",
            "www.stepic.org\t60\n",
            "www.stepic.org\t100\n"
          ],
          "name": "stdout"
        }
      ]
    },
    {
      "cell_type": "code",
      "metadata": {
        "id": "fIZ3ZL_u2oWX"
      },
      "source": [
        "# reducer for mean values\n",
        "# class MapperMean():\n",
        "#     def map(self, t, r):\n",
        "#         yield '\\t'.join([t, r])\n",
        "\n",
        "class ReducerMean():\n",
        "    def reduce(self, input_):\n",
        "        last_key, sum_, count_ = None, 0, 0\n",
        "        for line in input_.strip().split('\\n'):\n",
        "            k, v = line.strip().split('\\t')\n",
        "\n",
        "            if last_key and k != last_key:\n",
        "                print('\\t'.join([last_key, str(sum_ // count_)]))\n",
        "                last_key, sum_, count_ = k, int(v), 1\n",
        "            else:\n",
        "                last_key = k\n",
        "                sum_ += int(v)\n",
        "                count_ += 1\n",
        "\n",
        "        if last_key:\n",
        "            print('\\t'.join([last_key, str(sum_ // count_)]))"
      ],
      "execution_count": 256,
      "outputs": []
    },
    {
      "cell_type": "code",
      "metadata": {
        "colab": {
          "base_uri": "https://localhost:8080/"
        },
        "id": "mNnYf_Bv6Boy",
        "outputId": "1b221752-54db-43d5-84a3-1cdcf9cfd4a8"
      },
      "source": [
        "reducer = ReducerMean()\n",
        "reducer.reduce(input_)"
      ],
      "execution_count": 257,
      "outputs": [
        {
          "output_type": "stream",
          "text": [
            "www.facebook.com\t100\n",
            "www.google.com\t10\n",
            "www.stepic.org\t80\n"
          ],
          "name": "stdout"
        }
      ]
    },
    {
      "cell_type": "code",
      "metadata": {
        "id": "aivsHm318jXO"
      },
      "source": [
        "input_ = 'www.facebook.com\\t100;1\\nwww.google.com\\t10;1\\nwww.google.com\\t5;1\\nwww.google.com\\t15;1\\nstepic.org\\t60;1\\nstepic.org\\t100;1'"
      ],
      "execution_count": 258,
      "outputs": []
    },
    {
      "cell_type": "code",
      "metadata": {
        "colab": {
          "base_uri": "https://localhost:8080/"
        },
        "id": "01YEiTGzHA54",
        "outputId": "aa4e27d7-fcc5-4a69-9cca-73bddee0a25b"
      },
      "source": [
        "print(input_)"
      ],
      "execution_count": 259,
      "outputs": [
        {
          "output_type": "stream",
          "text": [
            "www.facebook.com\t100;1\n",
            "www.google.com\t10;1\n",
            "www.google.com\t5;1\n",
            "www.google.com\t15;1\n",
            "stepic.org\t60;1\n",
            "stepic.org\t100;1\n"
          ],
          "name": "stdout"
        }
      ]
    },
    {
      "cell_type": "code",
      "metadata": {
        "id": "3aKf3HbEG2Zc"
      },
      "source": [
        "# combiner mean\n",
        "class CombinerMean():\n",
        "    def combine(self, input_):\n",
        "        last_key, sum_, count_ = None, 0, 0\n",
        "        for line in input_.strip().split('\\n'):\n",
        "            k, v = line.strip().split('\\t')\n",
        "            s, ONE = v.split(';')\n",
        "\n",
        "            if last_key and k != last_key:\n",
        "                print('\\t'.join([last_key, str(sum_) + ';' + str(count_)]))\n",
        "                last_key, sum_, count_ = k, int(s), 1\n",
        "            else:\n",
        "                last_key = k\n",
        "                sum_ += int(s)\n",
        "                count_ += 1\n",
        "\n",
        "        if last_key:\n",
        "            print('\\t'.join([last_key, str(sum_) + ';' + str(count_)]))"
      ],
      "execution_count": 264,
      "outputs": []
    },
    {
      "cell_type": "code",
      "metadata": {
        "colab": {
          "base_uri": "https://localhost:8080/"
        },
        "id": "pPhne4fWMUQ-",
        "outputId": "45e0b1be-1247-4369-dc18-3031255133f1"
      },
      "source": [
        "combiner = CombinerMean()\n",
        "combiner.combine(input_)"
      ],
      "execution_count": 265,
      "outputs": [
        {
          "output_type": "stream",
          "text": [
            "www.facebook.com\t100;1\n",
            "www.google.com\t30;3\n",
            "stepic.org\t160;2\n"
          ],
          "name": "stdout"
        }
      ]
    },
    {
      "cell_type": "code",
      "metadata": {
        "id": "GWAuvaBrMXFb"
      },
      "source": [
        "input_ = '1\\ta,b\\n2\\ta,d,e\\n1\\tb\\n3\\ta,b'"
      ],
      "execution_count": 266,
      "outputs": []
    },
    {
      "cell_type": "code",
      "metadata": {
        "colab": {
          "base_uri": "https://localhost:8080/"
        },
        "id": "eHGQEo5RZrMe",
        "outputId": "ea0839aa-7e75-483b-9fc8-0d721a2842b5"
      },
      "source": [
        "print(input_)"
      ],
      "execution_count": 267,
      "outputs": [
        {
          "output_type": "stream",
          "text": [
            "1\ta,b\n",
            "2\ta,d,e\n",
            "1\tb\n",
            "3\ta,b\n"
          ],
          "name": "stdout"
        }
      ]
    },
    {
      "cell_type": "code",
      "metadata": {
        "id": "db6_YipzYxA_"
      },
      "source": [
        "# Distinct Values v1\n",
        "class MapperDistinctV1():\n",
        "    def map(self, input_):\n",
        "        k, v = input_.strip().split('\\t')\n",
        "        gs = v.split(',')\n",
        "        for g in gs:\n",
        "            print('\\t'.join([k + ',' + g, str(1)]))"
      ],
      "execution_count": 284,
      "outputs": []
    },
    {
      "cell_type": "code",
      "metadata": {
        "colab": {
          "base_uri": "https://localhost:8080/"
        },
        "id": "LL88Z4etas85",
        "outputId": "fe55c2a1-18c5-47b5-d5ad-dc29440d9b5c"
      },
      "source": [
        "mapper = MapperDistinctV1()\n",
        "for doc in input_.strip().split('\\n'):\n",
        "    mapper.map(doc)"
      ],
      "execution_count": 285,
      "outputs": [
        {
          "output_type": "stream",
          "text": [
            "1,a\t1\n",
            "1,b\t1\n",
            "2,a\t1\n",
            "2,d\t1\n",
            "2,e\t1\n",
            "1,b\t1\n",
            "3,a\t1\n",
            "3,b\t1\n"
          ],
          "name": "stdout"
        }
      ]
    },
    {
      "cell_type": "code",
      "metadata": {
        "id": "j9hiyurCdAq4"
      },
      "source": [
        "input_ = '1,a\\t1\\n1,b\\t1\\n1,b\\t1\\n2,a\\t1\\n2,d\\t1\\n2,e\\t1\\n3,a\\t1\\n3,b\\t1'"
      ],
      "execution_count": 286,
      "outputs": []
    },
    {
      "cell_type": "code",
      "metadata": {
        "colab": {
          "base_uri": "https://localhost:8080/"
        },
        "id": "rr9U8G_6f2c8",
        "outputId": "47089817-36e1-4091-8051-16316606da9d"
      },
      "source": [
        "print(input_)"
      ],
      "execution_count": 292,
      "outputs": [
        {
          "output_type": "stream",
          "text": [
            "1,a\t1\n",
            "1,b\t1\n",
            "1,b\t1\n",
            "2,a\t1\n",
            "2,d\t1\n",
            "2,e\t1\n",
            "3,a\t1\n",
            "3,b\t1\n"
          ],
          "name": "stdout"
        }
      ]
    },
    {
      "cell_type": "code",
      "metadata": {
        "id": "z6-JEPCoa7BB"
      },
      "source": [
        "class ReducerDistinctV1():\n",
        "    def reduce(self, input_):\n",
        "        last_k = None\n",
        "\n",
        "        for line in input_.strip().split('\\n'):\n",
        "            k, v = line.strip().split('\\t')\n",
        "            if k != last_k:\n",
        "                print(k)\n",
        "                last_k = k\n",
        "            else:\n",
        "                last_k = k"
      ],
      "execution_count": 290,
      "outputs": []
    },
    {
      "cell_type": "code",
      "metadata": {
        "colab": {
          "base_uri": "https://localhost:8080/"
        },
        "id": "eZgPb7dteIew",
        "outputId": "ecfca3a8-cd1c-40c8-e12f-5d92a346a1e5"
      },
      "source": [
        "reducer = ReducerDistinctV1()\n",
        "reducer.reduce(input_)"
      ],
      "execution_count": 291,
      "outputs": [
        {
          "output_type": "stream",
          "text": [
            "1,a\n",
            "1,b\n",
            "2,a\n",
            "2,d\n",
            "2,e\n",
            "3,a\n",
            "3,b\n"
          ],
          "name": "stdout"
        }
      ]
    },
    {
      "cell_type": "code",
      "metadata": {
        "id": "b4Bph8n0ha1f"
      },
      "source": [
        "input_ = '1,a\\n2,a\\n3,a\\n1,b\\n3,b\\n2,d\\n2,e'"
      ],
      "execution_count": 293,
      "outputs": []
    },
    {
      "cell_type": "code",
      "metadata": {
        "colab": {
          "base_uri": "https://localhost:8080/"
        },
        "id": "5QxpkCdshgad",
        "outputId": "43c2cf9f-797b-4fd0-d8c7-3f17731514dd"
      },
      "source": [
        "print(input_)"
      ],
      "execution_count": 294,
      "outputs": [
        {
          "output_type": "stream",
          "text": [
            "1,a\n",
            "2,a\n",
            "3,a\n",
            "1,b\n",
            "3,b\n",
            "2,d\n",
            "2,e\n"
          ],
          "name": "stdout"
        }
      ]
    },
    {
      "cell_type": "code",
      "metadata": {
        "id": "A3PT4CEaeQ_w"
      },
      "source": [
        "# Distinct Values v1\n",
        "class MapperDistinctV2():\n",
        "    def map(self, input_):\n",
        "        f, g = input_.strip().split(',')\n",
        "        print(g, '1', sep='\\t')"
      ],
      "execution_count": 299,
      "outputs": []
    },
    {
      "cell_type": "code",
      "metadata": {
        "colab": {
          "base_uri": "https://localhost:8080/"
        },
        "id": "_yPhYIHNhwHP",
        "outputId": "5522b45c-023b-44c0-f297-23f6568d8fe8"
      },
      "source": [
        "mapper = MapperDistinctV2()\n",
        "for doc in input_.strip().split('\\n'):\n",
        "    mapper.map(doc)"
      ],
      "execution_count": 300,
      "outputs": [
        {
          "output_type": "stream",
          "text": [
            "a\t1\n",
            "a\t1\n",
            "a\t1\n",
            "b\t1\n",
            "b\t1\n",
            "d\t1\n",
            "e\t1\n"
          ],
          "name": "stdout"
        }
      ]
    },
    {
      "cell_type": "code",
      "metadata": {
        "id": "py7TuZP4h0wO"
      },
      "source": [
        ""
      ],
      "execution_count": null,
      "outputs": []
    }
  ]
}